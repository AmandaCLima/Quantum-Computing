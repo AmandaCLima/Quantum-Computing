{
  "cells": [
    {
      "cell_type": "code",
      "execution_count": 70,
      "metadata": {
        "id": "By0kKXEgHHi0"
      },
      "outputs": [],
      "source": [
        "from qiskit import QuantumCircuit, QuantumRegister\n",
        "from qiskit import transpile\n",
        "from qiskit_aer import Aer\n",
        "import numpy as np\n",
        "import qiskit.visualization\n",
        "import numpy as np\n",
        "from qiskit.quantum_info import Operator\n",
        "from sympy import symbols, Eq, solve, cos, sin, I, pi, exp\n",
        "from qiskit.circuit import Parameter, Gate\n",
        "from qiskit.quantum_info.operators import Operator\n",
        "from scipy.optimize import fsolve\n",
        "from qiskit._accelerate import euler_one_qubit_decomposer,two_qubit_decompose\n",
        "from qiskit.circuit.library.standard_gates import HGate, CCXGate, multi_control_rotation_gates\n",
        "import qiskit.quantum_info as qi\n"
      ]
    },
    {
      "cell_type": "markdown",
      "metadata": {},
      "source": [
        "Decomposição ZYZ porta Hadamard"
      ]
    },
    {
      "cell_type": "code",
      "execution_count": 4,
      "metadata": {},
      "outputs": [],
      "source": [
        "#Resolvendo o Sistema \n",
        "S = np.array([[1, -1/2, -1/2], [1, -1/2, 1/2], [1, 1/2, -1/2]])\n",
        "V = np.array([0, np.pi, 0])\n",
        "gamma = np.pi/2\n",
        "x = np.linalg.solve(S, V)\n",
        "alpha = x[0]\n",
        "beta  = x[1]\n",
        "delta = x[2]"
      ]
    },
    {
      "cell_type": "code",
      "execution_count": 5,
      "metadata": {},
      "outputs": [
        {
          "name": "stdout",
          "output_type": "stream",
          "text": [
            "alpha: 1.5707963267948966\n",
            "beta: 0.0\n",
            "gamma: 1.5707963267948966\n",
            "delta: 3.141592653589793\n"
          ]
        }
      ],
      "source": [
        "print(f\"alpha: {alpha}\")\n",
        "print(f\"beta: {beta}\")\n",
        "print(f\"gamma: {gamma}\")\n",
        "print(f\"delta: {delta}\")"
      ]
    },
    {
      "cell_type": "code",
      "execution_count": 6,
      "metadata": {
        "colab": {
          "base_uri": "https://localhost:8080/",
          "height": 139
        },
        "id": "ZeNQTdaGLQ0O",
        "outputId": "6b65f158-3d3b-4a78-e960-8a0ac21ae3eb"
      },
      "outputs": [
        {
          "data": {
            "image/png": "[encoded data removed]",
            "text/plain": [
              "<Figure size 352.675x117.056 with 1 Axes>"
            ]
          },
          "execution_count": 6,
          "metadata": {},
          "output_type": "execute_result"
        }
      ],
      "source": [
        "#montando circuito\n",
        "circuito = QuantumCircuit(1)\n",
        "gamma = np.pi/2\n",
        "circuito.global_phase = alpha \n",
        "circuito.rz(delta,0)\n",
        "circuito.ry(gamma,0)\n",
        "circuito.rz(beta,0)\n",
        "circuito.draw('mpl')\n"
      ]
    },
    {
      "cell_type": "code",
      "execution_count": 7,
      "metadata": {},
      "outputs": [
        {
          "name": "stdout",
          "output_type": "stream",
          "text": [
            "[[ 0.70710678+0.00000000e+00j  0.70710678-8.65956056e-17j]\n",
            " [ 0.70710678+0.00000000e+00j -0.70710678+8.65956056e-17j]]\n"
          ]
        }
      ],
      "source": [
        "unitary = Operator(circuito).data\n",
        "print(unitary)"
      ]
    },
    {
      "cell_type": "markdown",
      "metadata": {},
      "source": [
        "Decomposição ZYZ:  Generalização"
      ]
    },
    {
      "cell_type": "code",
      "execution_count": 8,
      "metadata": {},
      "outputs": [],
      "source": [
        "def decompose_ZYZ(U):\n",
        "    #checando se e unitaria\n",
        "    if not np.allclose(U.conj().T @ U, np.eye(2)):\n",
        "        raise ValueError(\"The input matrix is not unitary.\")\n",
        "\n",
        " \n",
        "    alpha = np.angle(np.linalg.det(U)) / 2\n",
        "    U = U * np.exp(-1j * alpha)\n",
        "    if np.isclose(np.abs(U[0, 0]), 1):\n",
        "        beta = 0.0\n",
        "        gamma = 0.0\n",
        "        delta = np.angle(U[1, 1]) - np.angle(U[0, 0])\n",
        "    elif np.isclose(U[0, 0], 0):\n",
        "        beta = np.pi\n",
        "        gamma = np.angle(U[1, 0])\n",
        "        delta = -np.angle(U[0, 1])\n",
        "    else:\n",
        "        beta = 2 * np.arccos(np.abs(U[0, 0]))\n",
        "        gamma = np.angle(U[1, 0]) - np.angle(U[0, 0])\n",
        "        delta = np.angle(U[1, 1]) - np.angle(U[1, 0])\n",
        "\n",
        "\n",
        "\n",
        "    return alpha, beta, gamma, delta"
      ]
    },
    {
      "cell_type": "markdown",
      "metadata": {},
      "source": [
        "Ex1: Porta Hadamard"
      ]
    },
    {
      "cell_type": "code",
      "execution_count": 9,
      "metadata": {},
      "outputs": [
        {
          "data": {
            "image/png": "[encoded data removed]",
            "text/plain": [
              "<Figure size 352.675x117.056 with 1 Axes>"
            ]
          },
          "execution_count": 9,
          "metadata": {},
          "output_type": "execute_result"
        }
      ],
      "source": [
        "U = np.array([\n",
        "    [1/np.sqrt(2), 1/np.sqrt(2)],\n",
        "    [1/np.sqrt(2), -1/np.sqrt(2)]\n",
        "], dtype=complex)\n",
        "\n",
        "alpha, beta, gamma, delta = decompose_ZYZ(U)\n",
        "cq = QuantumCircuit(1)\n",
        "cq = QuantumCircuit(1)\n",
        "cq.rz(delta, 0)\n",
        "cq.ry(beta, 0)\n",
        "cq.rz(gamma, 0)\n",
        "cq.global_phase = alpha\n",
        "\n",
        "\n",
        "cq.draw('mpl')\n"
      ]
    },
    {
      "cell_type": "code",
      "execution_count": 10,
      "metadata": {},
      "outputs": [
        {
          "name": "stdout",
          "output_type": "stream",
          "text": [
            "[[ 0.70710678+0.00000000e+00j  0.70710678-8.65956056e-17j]\n",
            " [ 0.70710678+0.00000000e+00j -0.70710678+8.65956056e-17j]]\n"
          ]
        }
      ],
      "source": [
        "unitary = Operator(cq).data\n",
        "print(unitary)"
      ]
    },
    {
      "cell_type": "markdown",
      "metadata": {},
      "source": [
        "Ex2: Porta X"
      ]
    },
    {
      "cell_type": "code",
      "execution_count": 11,
      "metadata": {},
      "outputs": [
        {
          "data": {
            "image/png": "[encoded data removed]",
            "text/plain": [
              "<Figure size 352.675x117.056 with 1 Axes>"
            ]
          },
          "execution_count": 11,
          "metadata": {},
          "output_type": "execute_result"
        }
      ],
      "source": [
        "U = np.array([\n",
        "    [0, 1],\n",
        "    [1, 0]\n",
        "], dtype=complex)\n",
        "\n",
        "alpha, beta, gamma, delta = decompose_ZYZ(U)\n",
        "cq = QuantumCircuit(1)\n",
        "cq = QuantumCircuit(1)\n",
        "cq.rz(delta, 0)\n",
        "cq.ry(beta, 0)\n",
        "cq.rz(gamma, 0)\n",
        "cq.global_phase = alpha\n",
        "\n",
        "\n",
        "cq.draw('mpl')\n"
      ]
    },
    {
      "cell_type": "code",
      "execution_count": 12,
      "metadata": {},
      "outputs": [
        {
          "name": "stdout",
          "output_type": "stream",
          "text": [
            "[[0.+6.12323400e-17j 1.-2.22044605e-16j]\n",
            " [1.+2.22044605e-16j 0.+6.12323400e-17j]]\n"
          ]
        }
      ],
      "source": [
        "unitary = Operator(cq).data\n",
        "print(unitary)"
      ]
    },
    {
      "cell_type": "markdown",
      "metadata": {},
      "source": [
        "Decomposição ZYZ para portas controladas:  Generalização"
      ]
    },
    {
      "cell_type": "code",
      "execution_count": 46,
      "metadata": {},
      "outputs": [],
      "source": [
        "def decompose_ZYZ_controlled(U):\n",
        "\n",
        "    alpha, beta, gamma, delta = decompose_ZYZ(U)\n",
        "\n",
        "    # Criando as portas A ,B ,C\n",
        "    \n",
        "    #C\n",
        "    circuit_C = QuantumCircuit(1)\n",
        "    circuit_C.rz((delta-beta)/2,0)\n",
        "    gate_C = circuit_C.to_gate(label= 'C')\n",
        "    \n",
        "    #B\n",
        "    circuit_B = QuantumCircuit(1)\n",
        "    circuit_B.ry(-gamma/2,0)\n",
        "    circuit_B.rz(-(delta+beta)/2,0)\n",
        "    gate_B = circuit_B.to_gate(label = 'B')\n",
        "    \n",
        "    #A\n",
        "    circuit_A = QuantumCircuit(1)\n",
        "    circuit_A.rz(beta,0)\n",
        "    circuit_A.ry(gamma/2,0)\n",
        "    gate_A = circuit_A.to_gate(label = 'A')\n",
        "\n",
        "    # Criando o circuito \n",
        "    circuit = QuantumCircuit(2)\n",
        "    \n",
        "    # Aplicando as portas\n",
        "    circuit.append(gate_C, [1])\n",
        "    circuit.cx(0, 1)\n",
        "    circuit.append(gate_B, [1])\n",
        "    circuit.cx(0, 1)\n",
        "    circuit.append(gate_A, [1])\n",
        "\n",
        "    V = np.array([[1, 0],\n",
        "                  [0, np.exp(1j * alpha)]])\n",
        "    circuit.unitary(V, [0], label='V')  # Aplicado ao qubit 0\n",
        "\n",
        "    return circuit\n"
      ]
    },
    {
      "cell_type": "markdown",
      "metadata": {},
      "source": [
        "Ex: Hadamard Controlada"
      ]
    },
    {
      "cell_type": "code",
      "execution_count": 47,
      "metadata": {},
      "outputs": [
        {
          "data": {
            "image/png": "[encoded data removed]",
            "text/plain": [
              "<Figure size 538.128x200.667 with 1 Axes>"
            ]
          },
          "execution_count": 47,
          "metadata": {},
          "output_type": "execute_result"
        }
      ],
      "source": [
        "U = np.array([\n",
        "    [1/np.sqrt(2), 1/np.sqrt(2)],\n",
        "    [1/np.sqrt(2), -1/np.sqrt(2)]\n",
        "], dtype=complex)\n",
        "\n",
        "\n",
        "qc = QuantumCircuit(2)\n",
        "qc = decompose_ZYZ_controlled(U)\n",
        "qc.draw('mpl')\n"
      ]
    },
    {
      "cell_type": "markdown",
      "metadata": {},
      "source": [
        "Porta com 2 qubits de controle"
      ]
    },
    {
      "cell_type": "code",
      "execution_count": 64,
      "metadata": {},
      "outputs": [],
      "source": [
        "def control_gate_circuit(V):\n",
        "    qc = QuantumCircuit(3)\n",
        "\n",
        "    # Criar a porta V usando a matriz unitária fornecida\n",
        "    V_gate = Gate(name='V', num_qubits=1, params=[])\n",
        "    V_gate.definition = QuantumCircuit(1)\n",
        "    V_gate.definition.unitary(V, [0])\n",
        "\n",
        "    # Criar a versão controlada da porta V\n",
        "    V_controlled = V_gate.control(1)\n",
        "\n",
        "    # Calcular a adjunta da matriz V\n",
        "    V_adj = np.conj(V.T)\n",
        "\n",
        "    # Criar a porta adjunta de V\n",
        "    V_adj_gate = Gate(name='V_adj', num_qubits=1, params=[])\n",
        "    V_adj_gate.definition = QuantumCircuit(1)\n",
        "    V_adj_gate.definition.unitary(V_adj, [0])\n",
        "\n",
        "    # Criar a versão controlada da porta adjunta\n",
        "    V_controlled_adj = V_adj_gate.control(1)\n",
        "\n",
        "    # Adicionar as operações conforme descrito\n",
        "    qc.append(V_controlled, [1, 2])\n",
        "    qc.cx(0, 1)\n",
        "    qc.append(V_controlled_adj, [1, 2])\n",
        "    qc.cx(0, 1)\n",
        "    qc.append(V_controlled, [0, 2])\n",
        "\n",
        "    return qc"
      ]
    },
    {
      "cell_type": "code",
      "execution_count": 65,
      "metadata": {},
      "outputs": [
        {
          "data": {
            "image/png": "[encoded data removed]",
            "text/plain": [
              "<Figure size 538.33x284.278 with 1 Axes>"
            ]
          },
          "execution_count": 65,
          "metadata": {},
          "output_type": "execute_result"
        }
      ],
      "source": [
        "# Definir a porta V (sqrt(Hadamard))\n",
        "V = np.array([\n",
        "    [1/np.sqrt(2), 1/np.sqrt(2)],\n",
        "    [1/np.sqrt(2), -1/np.sqrt(2)]\n",
        "], dtype=complex)\n",
        "\n",
        "qc = control_gate_circuit(V)\n",
        "qc.draw('mpl')"
      ]
    },
    {
      "cell_type": "markdown",
      "metadata": {},
      "source": [
        "Porta Toffoli"
      ]
    },
    {
      "cell_type": "code",
      "execution_count": 100,
      "metadata": {},
      "outputs": [
        {
          "data": {
            "image/png": "[encoded data removed]",
            "text/plain": [
              "<Figure size 203.885x284.278 with 1 Axes>"
            ]
          },
          "execution_count": 100,
          "metadata": {},
          "output_type": "execute_result"
        }
      ],
      "source": [
        "toffoli = QuantumCircuit(3)\n",
        "toffoli.ccx(0,1,2)\n",
        "toffoli.draw('mpl')"
      ]
    },
    {
      "cell_type": "code",
      "execution_count": 115,
      "metadata": {},
      "outputs": [],
      "source": [
        "def Toffoli_circuit():\n",
        "    \n",
        "    #porta T \n",
        "    T = np.array([[1, 0],\n",
        "                  [0, np.exp(1j * np.pi/8)]])\n",
        "    T_operator = Operator(T)\n",
        "    qc_T = QuantumCircuit(1)\n",
        "    qc_T.unitary(T_operator, [0])\n",
        "    T_gate = qc_T.to_gate(label = 'T')\n",
        "\n",
        "    #porta T_adj\n",
        "    T_adj = np.array([[1, 0],\n",
        "                  [0, np.exp(-1j * np.pi/8)]])\n",
        "    T_adj_operator = Operator(T_adj)\n",
        "    qc_T_adj = QuantumCircuit(1)\n",
        "    qc_T_adj.unitary(T_adj_operator, [0])\n",
        "    T_adj_gate = qc_T_adj.to_gate(label = 'T†')\n",
        "\n",
        "    #porta S\n",
        "    S = np.array([[1, 0],\n",
        "                  [0, 1j]])\n",
        "    S_operator = Operator(S)\n",
        "    qc_S = QuantumCircuit(1)\n",
        "    qc_S.unitary(S_operator, [0])\n",
        "    S_gate = qc_S.to_gate(label= 'S')\n",
        "\n",
        "    #montando circuito\n",
        "    circuit = QuantumCircuit(3)\n",
        "    circuit.append(HGate(), [2])\n",
        "    circuit.cx(1,2)\n",
        "    circuit.append(T_adj_gate, [2])\n",
        "    circuit.cx(0,2)\n",
        "    circuit.append(T_gate, [2])\n",
        "    circuit.cx(1,2)\n",
        "    circuit.append(T_adj_gate, [2])  \n",
        "    circuit.cx(0,2)\n",
        "    circuit.append(T_gate, [2])\n",
        "    circuit.append(T_adj_gate, [1])\n",
        "    circuit.append(HGate(), [2])\n",
        "    circuit.cx(0,1)\n",
        "    circuit.append(T_adj_gate, [1])\n",
        "    circuit.cx(0,1)\n",
        "    circuit.append(T_gate, [0])\n",
        "    circuit.append(S_gate, [1])\n",
        "\n",
        "\n",
        "    \n",
        "    return circuit"
      ]
    },
    {
      "cell_type": "code",
      "execution_count": 116,
      "metadata": {},
      "outputs": [
        {
          "data": {
            "image/png": "[encoded data removed]",
            "text/plain": [
              "<Figure size 1123.61x284.278 with 1 Axes>"
            ]
          },
          "execution_count": 116,
          "metadata": {},
          "output_type": "execute_result"
        }
      ],
      "source": [
        "qc = Toffoli_circuit()\n",
        "qc.draw('mpl')"
      ]
    },
    {
      "cell_type": "code",
      "execution_count": 117,
      "metadata": {},
      "outputs": [
        {
          "name": "stdout",
          "output_type": "stream",
          "text": [
            "As matrizes não são equivalentes.\n"
          ]
        }
      ],
      "source": [
        "qc_unitary = Operator(qc).data\n",
        "toffoli_unitary = Operator(toffoli).data\n",
        "\n",
        "#Comparando as matrizes unitárias\n",
        "\n",
        "if np.allclose(qc_unitary, toffoli_unitary, atol=1e-6):\n",
        "    print(\"As matrizes são equivalentes.\")\n",
        "else:\n",
        "    print(\"As matrizes não são equivalentes.\")"
      ]
    }
  ],
  "metadata": {
    "colab": {
      "provenance": []
    },
    "kernelspec": {
      "display_name": "Python 3",
      "language": "python",
      "name": "python3"
    },
    "language_info": {
      "codemirror_mode": {
        "name": "ipython",
        "version": 3
      },
      "file_extension": ".py",
      "mimetype": "text/x-python",
      "name": "python",
      "nbconvert_exporter": "python",
      "pygments_lexer": "ipython3",
      "version": "3.8.10"
    }
  },
  "nbformat": 4,
  "nbformat_minor": 0
}
